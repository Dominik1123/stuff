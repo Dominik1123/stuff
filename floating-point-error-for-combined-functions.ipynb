{
 "cells": [
  {
   "cell_type": "markdown",
   "metadata": {},
   "source": [
    "# Investigate the floating point error for combined functions\n",
    "\n",
    "Let's look at the function $f(x) = \\frac{\\sin(x)}{x}$ which has the following Taylor series:\n",
    "\n",
    "$$\n",
    "f_n(x) = \\sum_{i=0}^{n}\\frac{(-1)^i x^{2i}}{(2i + 1)!} = 1 - \\frac{x^2}{6} + \\frac{x^4}{120} - \\frac{x^6}{5040} + \\;...\n",
    "$$\n",
    "\n",
    "In the following we will compare the original representation $f(x) = \\frac{\\sin(x)}{x}$ against the series expansion, truncated at various orders."
   ]
  },
  {
   "cell_type": "code",
   "execution_count": 1,
   "metadata": {},
   "outputs": [
    {
     "name": "stdout",
     "output_type": "stream",
     "text": [
      "[poly1d([-0.16666667,  0.        ,  1.        ]),\n",
      " poly1d([ 0.00833333,  0.        , -0.16666667,  0.        ,  1.        ]),\n",
      " poly1d([-1.98412698e-04,  0.00000000e+00,  8.33333333e-03,  0.00000000e+00,\n",
      "       -1.66666667e-01,  0.00000000e+00,  1.00000000e+00]),\n",
      " poly1d([ 2.75573192e-06,  0.00000000e+00, -1.98412698e-04,  0.00000000e+00,\n",
      "        8.33333333e-03,  0.00000000e+00, -1.66666667e-01,  0.00000000e+00,\n",
      "        1.00000000e+00]),\n",
      " poly1d([-2.50521084e-08,  0.00000000e+00,  2.75573192e-06,  0.00000000e+00,\n",
      "       -1.98412698e-04,  0.00000000e+00,  8.33333333e-03,  0.00000000e+00,\n",
      "       -1.66666667e-01,  0.00000000e+00,  1.00000000e+00]),\n",
      " poly1d([ 1.60590438e-10,  0.00000000e+00, -2.50521084e-08,  0.00000000e+00,\n",
      "        2.75573192e-06,  0.00000000e+00, -1.98412698e-04,  0.00000000e+00,\n",
      "        8.33333333e-03,  0.00000000e+00, -1.66666667e-01,  0.00000000e+00,\n",
      "        1.00000000e+00]),\n",
      " poly1d([-7.64716373e-13,  0.00000000e+00,  1.60590438e-10,  0.00000000e+00,\n",
      "       -2.50521084e-08,  0.00000000e+00,  2.75573192e-06,  0.00000000e+00,\n",
      "       -1.98412698e-04,  0.00000000e+00,  8.33333333e-03,  0.00000000e+00,\n",
      "       -1.66666667e-01,  0.00000000e+00,  1.00000000e+00])]\n"
     ]
    }
   ],
   "source": [
    "from pprint import pprint\n",
    "from math import factorial\n",
    "import numpy as np\n",
    "\n",
    "x_range = np.logspace(-10, 0, 50)\n",
    "\n",
    "N = 8\n",
    "series_coef = [0.] * (2*N - 1)\n",
    "series_coef[::2] = [(-1)**i / factorial(2*i + 1) for i in range(N)]\n",
    "series = [np.poly1d(series_coef[2*i::-1]) for i in range(1, N)]\n",
    "\n",
    "pprint(series)"
   ]
  },
  {
   "cell_type": "markdown",
   "metadata": {},
   "source": [
    "For the reference values we use the arbitrary precision floating point math library `mpmath`:"
   ]
  },
  {
   "cell_type": "code",
   "execution_count": 2,
   "metadata": {},
   "outputs": [
    {
     "name": "stdout",
     "output_type": "stream",
     "text": [
      "0.9999999999999999999983333333333333332118935089483408591907279481817054152470246937155228002822645326791758888233400936034055919674665963039300724396504911598147748570860035432503165048800992534105059619459052976387006990035470289773364164931926699152816607884067951598550791123043015317510592848322994760932835944443352770465277101236217848792342997079410902088085189246630354383191344186278690390187591068030139494611818446496180958167134366733716555501238795042670547269197844353430820173855579101470335562505106447105849142378460655137857158531921145457959806413532722132253824057892779555751598064012129679120358858668246822205776475869311750824653219218474927391169038936381631799150213770991545057150398704767331381782368521959198714233349715930255838654684246634380403313328338052656523488437132275012631570845571370822352443530247983204148116620793368443527415069006846558896372210086490509312550983880816047557660206651060152709796869425639536020213457832888596328433119845920944498228761423\n"
     ]
    }
   ],
   "source": [
    "import mpmath as mp\n",
    "\n",
    "mp.mp.dps = 1000  # 1,000 significant decimal places (64-bit float has about 16 dps)\n",
    "ref = [mp.sin(x)/x for z in x_range for x in (mp.mpf(z),)]\n",
    "\n",
    "print(ref[0])"
   ]
  },
  {
   "cell_type": "code",
   "execution_count": 3,
   "metadata": {},
   "outputs": [],
   "source": [
    "x = x_range\n",
    "r_orig = np.sin(x) / x\n",
    "r_series = [s(x) for s in series]"
   ]
  },
  {
   "cell_type": "markdown",
   "metadata": {},
   "source": [
    "Let's compute the errors w.r.t. the reference data and check for which values of $x$ the original version has a smaller floating point error than the series expansion(s):"
   ]
  },
  {
   "cell_type": "code",
   "execution_count": 4,
   "metadata": {},
   "outputs": [
    {
     "name": "stdout",
     "output_type": "stream",
     "text": [
      "[(2.182456214206085e-17, 1.1102230246251565e-16),\n",
      " (2.8459390635531962e-18, 1.1102230246251565e-16),\n",
      " (2.8459390635531962e-18, 1.1102230246251565e-16),\n",
      " (2.8459390635531962e-18, 1.1102230246251565e-16),\n",
      " (2.8459390635531962e-18, 1.1102230246251565e-16),\n",
      " (2.8459390635531962e-18, 1.1102230246251565e-16),\n",
      " (2.8459390635531962e-18, 1.1102230246251565e-16)]\n"
     ]
    }
   ],
   "source": [
    "err_orig = np.array([abs(a - b) for a, b in zip(r_orig, ref)])\n",
    "err_series = np.array([[abs(a - b) for a, b in zip(rs, ref)] for rs in r_series])\n",
    "\n",
    "better = err_orig < err_series\n",
    "similar = err_orig == err_series\n",
    "worse = err_orig > err_series\n",
    "\n",
    "difference = np.abs((err_orig - err_series).astype(float))\n",
    "\n",
    "pprint([(d[w].min(), d[w].max()) for d, w in zip(difference, worse)])"
   ]
  },
  {
   "cell_type": "markdown",
   "metadata": {},
   "source": [
    "The maximum error is half the floating point epsilon:"
   ]
  },
  {
   "cell_type": "code",
   "execution_count": 5,
   "metadata": {},
   "outputs": [
    {
     "name": "stdout",
     "output_type": "stream",
     "text": [
      "1.1102230246251565e-16\n"
     ]
    }
   ],
   "source": [
    "import sys\n",
    "print(sys.float_info.epsilon / 2)"
   ]
  },
  {
   "cell_type": "markdown",
   "metadata": {},
   "source": [
    "Let's plot the results:"
   ]
  },
  {
   "cell_type": "code",
   "execution_count": 7,
   "metadata": {},
   "outputs": [
    {
     "data": {
      "image/png": "[encoded data removed]",
      "text/plain": [
       "<Figure size 1152x648 with 1 Axes>"
      ]
     },
     "metadata": {
      "needs_background": "light"
     },
     "output_type": "display_data"
    }
   ],
   "source": [
    "import matplotlib.pyplot as plt\n",
    "\n",
    "y_data = [np.repeat(len(s.coef), len(x_range)) for s in series]\n",
    "\n",
    "f, ax = plt.subplots(figsize=(16, 9))\n",
    "for y, b, s, w in zip(y_data, better, similar, worse):\n",
    "    ax.scatter(x_range[b], y[b], s=50, marker='^', c='#2ca02c')  # green\n",
    "    ax.scatter(x_range[s], y[s], s=50, marker='o', c='#1f77b4')  # blue\n",
    "    ax.scatter(x_range[w], y[w], s=50, marker='v', c='#d62728')  # red\n",
    "ax.set_xlim([x_range.min()/10, x_range.max()*10])\n",
    "ax.set_xscale('log')\n",
    "ax.set_yticks([y[0] for y in y_data])\n",
    "ax.grid(which='both')\n",
    "ax.set_axisbelow(True)"
   ]
  },
  {
   "cell_type": "code",
   "execution_count": null,
   "metadata": {},
   "outputs": [],
   "source": []
  }
 ],
 "metadata": {
  "kernelspec": {
   "display_name": "Python 3",
   "language": "python",
   "name": "python3"
  },
  "language_info": {
   "codemirror_mode": {
    "name": "ipython",
    "version": 3
   },
   "file_extension": ".py",
   "mimetype": "text/x-python",
   "name": "python",
   "nbconvert_exporter": "python",
   "pygments_lexer": "ipython3",
   "version": "3.7.4"
  }
 },
 "nbformat": 4,
 "nbformat_minor": 2
}
